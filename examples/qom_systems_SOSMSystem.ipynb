{
 "metadata": {
  "language_info": {
   "codemirror_mode": {
    "name": "ipython",
    "version": 3
   },
   "file_extension": ".py",
   "mimetype": "text/x-python",
   "name": "python",
   "nbconvert_exporter": "python",
   "pygments_lexer": "ipython3",
   "version": "3.8.5"
  },
  "orig_nbformat": 2,
  "kernelspec": {
   "name": "python3",
   "display_name": "Python 3.8.5 64-bit ('base': conda)"
  },
  "interpreter": {
   "hash": "b3ba2566441a7c06988d0923437866b63cedc61552a5af99d1f4fb67d367b25f"
  }
 },
 "nbformat": 4,
 "nbformat_minor": 2,
 "cells": [
  {
   "source": [
    "# SOSMSystem Example\n",
    "\n",
    "> Usage demo of `qom.systems.SOSMSystem` module.\n",
    "\n",
    "## Imports"
   ],
   "cell_type": "markdown",
   "metadata": {}
  },
  {
   "cell_type": "code",
   "execution_count": 1,
   "metadata": {},
   "outputs": [],
   "source": [
    "# dependencies\n",
    "import numpy as np\n",
    "\n",
    "# qom modules\n",
    "from qom.systems import SOSMSystem"
   ]
  },
  {
   "source": [
    "## Basic Usage\n",
    "\n",
    "### The System Class\n",
    "\n",
    "`SOSMSystem`, as a parent class, initializes the parameters and assigns the number of modes as 2 - one optical and the other mechancial.\n",
    "It inherits `BaseSystem` class which contains several methods to calculate optomechanical properties and values.\n",
    "Here, the `get_mean_optical_occupancy` method is demonstrated using a custom `MySystem` class inheriting `SOSMSystem`."
   ],
   "cell_type": "markdown",
   "metadata": {}
  },
  {
   "cell_type": "code",
   "execution_count": 2,
   "metadata": {},
   "outputs": [],
   "source": [
    "# custom class to interface SOSMSystem\n",
    "class MySystem(SOSMSystem):\n",
    "    # class constructor taking system parameters\n",
    "    def __init__(self, params):\n",
    "        # initialize parent class\n",
    "        super().__init__(params)\n",
    "\n",
    "    # method to obtain the mean optical occupancy\n",
    "    def get_N_o(self):\n",
    "        # extract frequently used variables\n",
    "        kappa = self.params['kappa']\n",
    "        lambda_l = self.params['lambda_l']\n",
    "        mu =self.params['mu']\n",
    "        P_l = self.params['P_l']\n",
    "\n",
    "        # effective detuning\n",
    "        Delta = self.params['omega_m']\n",
    "\n",
    "        # return mean optical occupancy from built-in function\n",
    "        return self.get_mean_optical_occupancy(lambda_l, mu, kappa, P_l, Delta)"
   ]
  },
  {
   "source": [
    "### Calling Methods\n",
    "\n",
    "The `MySystem` class can now be initialized with the parameters of the optomechanical system.\n",
    "Implementation of the same is shown calling its intracavity photon occupancy."
   ],
   "cell_type": "markdown",
   "metadata": {}
  },
  {
   "cell_type": "code",
   "execution_count": 3,
   "metadata": {},
   "outputs": [
    {
     "output_type": "stream",
     "name": "stdout",
     "text": [
      "484009.20374277275\n"
     ]
    }
   ],
   "source": [
    "# all parameters\n",
    "params = {\n",
    "    'system': {\n",
    "        'kappa': 2 * np.pi * 1.5e6,\n",
    "        'lambda_l': 810e-9,\n",
    "        'mu': 1,\n",
    "        'omega_m': 2 * np.pi * 1e7,\n",
    "        'P_l': 50e-6\n",
    "    }\n",
    "}\n",
    "\n",
    "# initialize the system with system parameters\n",
    "system = MySystem(params['system'])\n",
    "# print mean occupancy of the optical mode\n",
    "print(system.get_N_o())"
   ]
  }
 ]
}